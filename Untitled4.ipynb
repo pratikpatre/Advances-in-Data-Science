{
 "cells": [
  {
   "cell_type": "code",
   "execution_count": 5,
   "metadata": {
    "collapsed": true
   },
   "outputs": [],
   "source": [
    "df = read.csv(\"C:/Users/Admin/Desktop/ADS.csv\")"
   ]
  },
  {
   "cell_type": "code",
   "execution_count": 6,
   "metadata": {
    "collapsed": false
   },
   "outputs": [
    {
     "data": {
      "text/html": [
       "<table>\n",
       "<thead><tr><th scope=col>No</th><th scope=col>GPA</th><th scope=col>Years.of.work.experience</th><th scope=col>Latest.salary..per.year.</th><th scope=col>Highest.GPA</th><th scope=col>Lowest.GPA</th><th scope=col>Coops.Internships..YN.</th><th scope=col>Number.of.contacts.on.Linkedin</th><th scope=col>Expected.Salary.after.graduation</th></tr></thead>\n",
       "<tbody>\n",
       "\t<tr><td> 1    </td><td>3.50  </td><td>2.5   </td><td>45000 </td><td>3.50  </td><td>3.50  </td><td>N     </td><td>250   </td><td> 90000</td></tr>\n",
       "\t<tr><td> 2    </td><td>3.80  </td><td>1.0   </td><td>65000 </td><td>3.60  </td><td>3.00  </td><td>Y     </td><td>400   </td><td>100000</td></tr>\n",
       "\t<tr><td> 3    </td><td>3.80  </td><td>2.0   </td><td>85000 </td><td>4.00  </td><td>3.60  </td><td>Y     </td><td>500   </td><td> 90000</td></tr>\n",
       "\t<tr><td> 4    </td><td>3.41  </td><td>1.5   </td><td>10000 </td><td>3.41  </td><td>3.33  </td><td>N     </td><td>365   </td><td>100000</td></tr>\n",
       "\t<tr><td> 5    </td><td>3.33  </td><td>5.0   </td><td>70000 </td><td>3.67  </td><td>3.00  </td><td>Y     </td><td>400   </td><td>100000</td></tr>\n",
       "\t<tr><td> 6    </td><td>3.52  </td><td>2.5   </td><td>27000 </td><td>3.58  </td><td>3.52  </td><td>N     </td><td>230   </td><td> 85000</td></tr>\n",
       "\t<tr><td> 7    </td><td>3.50  </td><td>2.0   </td><td>40000 </td><td>3.70  </td><td>3.30  </td><td>N     </td><td>250   </td><td> 90000</td></tr>\n",
       "\t<tr><td> 8    </td><td>3.50  </td><td>5.0   </td><td>75000 </td><td>3.53  </td><td>3.30  </td><td>Y     </td><td>260   </td><td>100000</td></tr>\n",
       "\t<tr><td> 9    </td><td>3.60  </td><td>2.5   </td><td>65000 </td><td>3.90  </td><td>3.10  </td><td>Y     </td><td>250   </td><td>110000</td></tr>\n",
       "\t<tr><td>10    </td><td>3.20  </td><td>4.0   </td><td>62000 </td><td>3.80  </td><td>3.00  </td><td>N     </td><td>525   </td><td>105000</td></tr>\n",
       "\t<tr><td>11    </td><td>3.50  </td><td>2.0   </td><td>60000 </td><td>3.50  </td><td>3.50  </td><td>N     </td><td>400   </td><td> 85000</td></tr>\n",
       "\t<tr><td>12    </td><td>3.67  </td><td>1.8   </td><td>60000 </td><td>4.00  </td><td>3.00  </td><td>N     </td><td>920   </td><td>140000</td></tr>\n",
       "\t<tr><td>13    </td><td>3.50  </td><td>2.0   </td><td>60000 </td><td>3.70  </td><td>3.30  </td><td>y     </td><td>300   </td><td> 90000</td></tr>\n",
       "\t<tr><td>14    </td><td>3.47  </td><td>2.5   </td><td>70000 </td><td>3.64  </td><td>3.37  </td><td>Y     </td><td>310   </td><td> 95000</td></tr>\n",
       "\t<tr><td>15    </td><td>3.06  </td><td>1.3   </td><td>40000 </td><td>3.64  </td><td>2.67  </td><td>Y     </td><td>550   </td><td>120000</td></tr>\n",
       "\t<tr><td>16    </td><td>3.27  </td><td>2.0   </td><td>60000 </td><td>4.00  </td><td>3.00  </td><td>Y     </td><td>350   </td><td>100000</td></tr>\n",
       "\t<tr><td>17    </td><td>3.53  </td><td>4.0   </td><td>50000 </td><td>4.00  </td><td>3.30  </td><td>N     </td><td>600   </td><td> 88000</td></tr>\n",
       "\t<tr><td>18    </td><td>4.00  </td><td>4.0   </td><td>50000 </td><td>4.00  </td><td>4.00  </td><td>Y     </td><td>500   </td><td>130000</td></tr>\n",
       "\t<tr><td>19    </td><td>3.40  </td><td>1.0   </td><td>30000 </td><td>3.60  </td><td>3.10  </td><td>N     </td><td>500   </td><td> 80000</td></tr>\n",
       "\t<tr><td>20    </td><td>3.54  </td><td>1.0   </td><td>40000 </td><td>4.00  </td><td>3.42  </td><td>Y     </td><td>650   </td><td> 95000</td></tr>\n",
       "\t<tr><td>21    </td><td>3.50  </td><td>2.0   </td><td>75000 </td><td>4.00  </td><td>3.00  </td><td>Y     </td><td>515   </td><td> 80000</td></tr>\n",
       "\t<tr><td>22    </td><td>3.50  </td><td>4.0   </td><td>50000 </td><td>3.80  </td><td>3.20  </td><td>Y     </td><td>350   </td><td>110000</td></tr>\n",
       "\t<tr><td>23    </td><td>3.40  </td><td>3.0   </td><td>50000 </td><td>3.80  </td><td>3.20  </td><td>Y     </td><td>301   </td><td> 90000</td></tr>\n",
       "\t<tr><td>24    </td><td>3.30  </td><td>4.0   </td><td>65000 </td><td>4.00  </td><td>3.65  </td><td>Y     </td><td>700   </td><td>100000</td></tr>\n",
       "\t<tr><td>25    </td><td>3.90  </td><td>6.0   </td><td>90000 </td><td>4.00  </td><td>3.80  </td><td>Y     </td><td>809   </td><td>120000</td></tr>\n",
       "\t<tr><td>26    </td><td>3.17  </td><td>1.0   </td><td>50000 </td><td>3.30  </td><td>3.00  </td><td>N     </td><td>258   </td><td>100000</td></tr>\n",
       "\t<tr><td>27    </td><td>3.48  </td><td>3.5   </td><td>60000 </td><td>4.00  </td><td>3.33  </td><td>Y     </td><td>350   </td><td>100000</td></tr>\n",
       "\t<tr><td>28    </td><td>3.93  </td><td>4.0   </td><td>43000 </td><td>4.00  </td><td>3.28  </td><td>Y     </td><td>900   </td><td>100000</td></tr>\n",
       "\t<tr><td>29    </td><td>3.43  </td><td>4.0   </td><td>60000 </td><td>3.50  </td><td>3.30  </td><td>Y     </td><td>220   </td><td>110000</td></tr>\n",
       "\t<tr><td>30    </td><td>3.33  </td><td>5.0   </td><td> 5000 </td><td>3.66  </td><td>3.00  </td><td>Y     </td><td>183   </td><td>100000</td></tr>\n",
       "\t<tr><td>31    </td><td>3.60  </td><td>1.5   </td><td>60000 </td><td>3.70  </td><td>3.40  </td><td>Y     </td><td>340   </td><td>100000</td></tr>\n",
       "\t<tr><td>32    </td><td>3.80  </td><td>3.0   </td><td>65000 </td><td>3.80  </td><td>3.50  </td><td>Y     </td><td>800   </td><td> 80000</td></tr>\n",
       "\t<tr><td>33    </td><td>3.50  </td><td>3.0   </td><td>65000 </td><td>4.00  </td><td>3.60  </td><td>Y     </td><td>400   </td><td> 80000</td></tr>\n",
       "\t<tr><td>34    </td><td>3.39  </td><td>2.0   </td><td>60000 </td><td>3.80  </td><td>3.20  </td><td>Y     </td><td>500   </td><td> 90000</td></tr>\n",
       "</tbody>\n",
       "</table>\n"
      ],
      "text/latex": [
       "\\begin{tabular}{r|lllllllll}\n",
       " No & GPA & Years.of.work.experience & Latest.salary..per.year. & Highest.GPA & Lowest.GPA & Coops.Internships..YN. & Number.of.contacts.on.Linkedin & Expected.Salary.after.graduation\\\\\n",
       "\\hline\n",
       "\t  1     & 3.50   & 2.5    & 45000  & 3.50   & 3.50   & N      & 250    &  90000\\\\\n",
       "\t  2     & 3.80   & 1.0    & 65000  & 3.60   & 3.00   & Y      & 400    & 100000\\\\\n",
       "\t  3     & 3.80   & 2.0    & 85000  & 4.00   & 3.60   & Y      & 500    &  90000\\\\\n",
       "\t  4     & 3.41   & 1.5    & 10000  & 3.41   & 3.33   & N      & 365    & 100000\\\\\n",
       "\t  5     & 3.33   & 5.0    & 70000  & 3.67   & 3.00   & Y      & 400    & 100000\\\\\n",
       "\t  6     & 3.52   & 2.5    & 27000  & 3.58   & 3.52   & N      & 230    &  85000\\\\\n",
       "\t  7     & 3.50   & 2.0    & 40000  & 3.70   & 3.30   & N      & 250    &  90000\\\\\n",
       "\t  8     & 3.50   & 5.0    & 75000  & 3.53   & 3.30   & Y      & 260    & 100000\\\\\n",
       "\t  9     & 3.60   & 2.5    & 65000  & 3.90   & 3.10   & Y      & 250    & 110000\\\\\n",
       "\t 10     & 3.20   & 4.0    & 62000  & 3.80   & 3.00   & N      & 525    & 105000\\\\\n",
       "\t 11     & 3.50   & 2.0    & 60000  & 3.50   & 3.50   & N      & 400    &  85000\\\\\n",
       "\t 12     & 3.67   & 1.8    & 60000  & 4.00   & 3.00   & N      & 920    & 140000\\\\\n",
       "\t 13     & 3.50   & 2.0    & 60000  & 3.70   & 3.30   & y      & 300    &  90000\\\\\n",
       "\t 14     & 3.47   & 2.5    & 70000  & 3.64   & 3.37   & Y      & 310    &  95000\\\\\n",
       "\t 15     & 3.06   & 1.3    & 40000  & 3.64   & 2.67   & Y      & 550    & 120000\\\\\n",
       "\t 16     & 3.27   & 2.0    & 60000  & 4.00   & 3.00   & Y      & 350    & 100000\\\\\n",
       "\t 17     & 3.53   & 4.0    & 50000  & 4.00   & 3.30   & N      & 600    &  88000\\\\\n",
       "\t 18     & 4.00   & 4.0    & 50000  & 4.00   & 4.00   & Y      & 500    & 130000\\\\\n",
       "\t 19     & 3.40   & 1.0    & 30000  & 3.60   & 3.10   & N      & 500    &  80000\\\\\n",
       "\t 20     & 3.54   & 1.0    & 40000  & 4.00   & 3.42   & Y      & 650    &  95000\\\\\n",
       "\t 21     & 3.50   & 2.0    & 75000  & 4.00   & 3.00   & Y      & 515    &  80000\\\\\n",
       "\t 22     & 3.50   & 4.0    & 50000  & 3.80   & 3.20   & Y      & 350    & 110000\\\\\n",
       "\t 23     & 3.40   & 3.0    & 50000  & 3.80   & 3.20   & Y      & 301    &  90000\\\\\n",
       "\t 24     & 3.30   & 4.0    & 65000  & 4.00   & 3.65   & Y      & 700    & 100000\\\\\n",
       "\t 25     & 3.90   & 6.0    & 90000  & 4.00   & 3.80   & Y      & 809    & 120000\\\\\n",
       "\t 26     & 3.17   & 1.0    & 50000  & 3.30   & 3.00   & N      & 258    & 100000\\\\\n",
       "\t 27     & 3.48   & 3.5    & 60000  & 4.00   & 3.33   & Y      & 350    & 100000\\\\\n",
       "\t 28     & 3.93   & 4.0    & 43000  & 4.00   & 3.28   & Y      & 900    & 100000\\\\\n",
       "\t 29     & 3.43   & 4.0    & 60000  & 3.50   & 3.30   & Y      & 220    & 110000\\\\\n",
       "\t 30     & 3.33   & 5.0    &  5000  & 3.66   & 3.00   & Y      & 183    & 100000\\\\\n",
       "\t 31     & 3.60   & 1.5    & 60000  & 3.70   & 3.40   & Y      & 340    & 100000\\\\\n",
       "\t 32     & 3.80   & 3.0    & 65000  & 3.80   & 3.50   & Y      & 800    &  80000\\\\\n",
       "\t 33     & 3.50   & 3.0    & 65000  & 4.00   & 3.60   & Y      & 400    &  80000\\\\\n",
       "\t 34     & 3.39   & 2.0    & 60000  & 3.80   & 3.20   & Y      & 500    &  90000\\\\\n",
       "\\end{tabular}\n"
      ],
      "text/markdown": [
       "\n",
       "No | GPA | Years.of.work.experience | Latest.salary..per.year. | Highest.GPA | Lowest.GPA | Coops.Internships..YN. | Number.of.contacts.on.Linkedin | Expected.Salary.after.graduation | \n",
       "|---|---|---|---|---|---|---|---|---|---|---|---|---|---|---|---|---|---|---|---|---|---|---|---|---|---|---|---|---|---|---|---|---|---|\n",
       "|  1     | 3.50   | 2.5    | 45000  | 3.50   | 3.50   | N      | 250    |  90000 | \n",
       "|  2     | 3.80   | 1.0    | 65000  | 3.60   | 3.00   | Y      | 400    | 100000 | \n",
       "|  3     | 3.80   | 2.0    | 85000  | 4.00   | 3.60   | Y      | 500    |  90000 | \n",
       "|  4     | 3.41   | 1.5    | 10000  | 3.41   | 3.33   | N      | 365    | 100000 | \n",
       "|  5     | 3.33   | 5.0    | 70000  | 3.67   | 3.00   | Y      | 400    | 100000 | \n",
       "|  6     | 3.52   | 2.5    | 27000  | 3.58   | 3.52   | N      | 230    |  85000 | \n",
       "|  7     | 3.50   | 2.0    | 40000  | 3.70   | 3.30   | N      | 250    |  90000 | \n",
       "|  8     | 3.50   | 5.0    | 75000  | 3.53   | 3.30   | Y      | 260    | 100000 | \n",
       "|  9     | 3.60   | 2.5    | 65000  | 3.90   | 3.10   | Y      | 250    | 110000 | \n",
       "| 10     | 3.20   | 4.0    | 62000  | 3.80   | 3.00   | N      | 525    | 105000 | \n",
       "| 11     | 3.50   | 2.0    | 60000  | 3.50   | 3.50   | N      | 400    |  85000 | \n",
       "| 12     | 3.67   | 1.8    | 60000  | 4.00   | 3.00   | N      | 920    | 140000 | \n",
       "| 13     | 3.50   | 2.0    | 60000  | 3.70   | 3.30   | y      | 300    |  90000 | \n",
       "| 14     | 3.47   | 2.5    | 70000  | 3.64   | 3.37   | Y      | 310    |  95000 | \n",
       "| 15     | 3.06   | 1.3    | 40000  | 3.64   | 2.67   | Y      | 550    | 120000 | \n",
       "| 16     | 3.27   | 2.0    | 60000  | 4.00   | 3.00   | Y      | 350    | 100000 | \n",
       "| 17     | 3.53   | 4.0    | 50000  | 4.00   | 3.30   | N      | 600    |  88000 | \n",
       "| 18     | 4.00   | 4.0    | 50000  | 4.00   | 4.00   | Y      | 500    | 130000 | \n",
       "| 19     | 3.40   | 1.0    | 30000  | 3.60   | 3.10   | N      | 500    |  80000 | \n",
       "| 20     | 3.54   | 1.0    | 40000  | 4.00   | 3.42   | Y      | 650    |  95000 | \n",
       "| 21     | 3.50   | 2.0    | 75000  | 4.00   | 3.00   | Y      | 515    |  80000 | \n",
       "| 22     | 3.50   | 4.0    | 50000  | 3.80   | 3.20   | Y      | 350    | 110000 | \n",
       "| 23     | 3.40   | 3.0    | 50000  | 3.80   | 3.20   | Y      | 301    |  90000 | \n",
       "| 24     | 3.30   | 4.0    | 65000  | 4.00   | 3.65   | Y      | 700    | 100000 | \n",
       "| 25     | 3.90   | 6.0    | 90000  | 4.00   | 3.80   | Y      | 809    | 120000 | \n",
       "| 26     | 3.17   | 1.0    | 50000  | 3.30   | 3.00   | N      | 258    | 100000 | \n",
       "| 27     | 3.48   | 3.5    | 60000  | 4.00   | 3.33   | Y      | 350    | 100000 | \n",
       "| 28     | 3.93   | 4.0    | 43000  | 4.00   | 3.28   | Y      | 900    | 100000 | \n",
       "| 29     | 3.43   | 4.0    | 60000  | 3.50   | 3.30   | Y      | 220    | 110000 | \n",
       "| 30     | 3.33   | 5.0    |  5000  | 3.66   | 3.00   | Y      | 183    | 100000 | \n",
       "| 31     | 3.60   | 1.5    | 60000  | 3.70   | 3.40   | Y      | 340    | 100000 | \n",
       "| 32     | 3.80   | 3.0    | 65000  | 3.80   | 3.50   | Y      | 800    |  80000 | \n",
       "| 33     | 3.50   | 3.0    | 65000  | 4.00   | 3.60   | Y      | 400    |  80000 | \n",
       "| 34     | 3.39   | 2.0    | 60000  | 3.80   | 3.20   | Y      | 500    |  90000 | \n",
       "\n",
       "\n"
      ],
      "text/plain": [
       "   No GPA  Years.of.work.experience Latest.salary..per.year. Highest.GPA\n",
       "1   1 3.50 2.5                      45000                    3.50       \n",
       "2   2 3.80 1.0                      65000                    3.60       \n",
       "3   3 3.80 2.0                      85000                    4.00       \n",
       "4   4 3.41 1.5                      10000                    3.41       \n",
       "5   5 3.33 5.0                      70000                    3.67       \n",
       "6   6 3.52 2.5                      27000                    3.58       \n",
       "7   7 3.50 2.0                      40000                    3.70       \n",
       "8   8 3.50 5.0                      75000                    3.53       \n",
       "9   9 3.60 2.5                      65000                    3.90       \n",
       "10 10 3.20 4.0                      62000                    3.80       \n",
       "11 11 3.50 2.0                      60000                    3.50       \n",
       "12 12 3.67 1.8                      60000                    4.00       \n",
       "13 13 3.50 2.0                      60000                    3.70       \n",
       "14 14 3.47 2.5                      70000                    3.64       \n",
       "15 15 3.06 1.3                      40000                    3.64       \n",
       "16 16 3.27 2.0                      60000                    4.00       \n",
       "17 17 3.53 4.0                      50000                    4.00       \n",
       "18 18 4.00 4.0                      50000                    4.00       \n",
       "19 19 3.40 1.0                      30000                    3.60       \n",
       "20 20 3.54 1.0                      40000                    4.00       \n",
       "21 21 3.50 2.0                      75000                    4.00       \n",
       "22 22 3.50 4.0                      50000                    3.80       \n",
       "23 23 3.40 3.0                      50000                    3.80       \n",
       "24 24 3.30 4.0                      65000                    4.00       \n",
       "25 25 3.90 6.0                      90000                    4.00       \n",
       "26 26 3.17 1.0                      50000                    3.30       \n",
       "27 27 3.48 3.5                      60000                    4.00       \n",
       "28 28 3.93 4.0                      43000                    4.00       \n",
       "29 29 3.43 4.0                      60000                    3.50       \n",
       "30 30 3.33 5.0                       5000                    3.66       \n",
       "31 31 3.60 1.5                      60000                    3.70       \n",
       "32 32 3.80 3.0                      65000                    3.80       \n",
       "33 33 3.50 3.0                      65000                    4.00       \n",
       "34 34 3.39 2.0                      60000                    3.80       \n",
       "   Lowest.GPA Coops.Internships..YN. Number.of.contacts.on.Linkedin\n",
       "1  3.50       N                      250                           \n",
       "2  3.00       Y                      400                           \n",
       "3  3.60       Y                      500                           \n",
       "4  3.33       N                      365                           \n",
       "5  3.00       Y                      400                           \n",
       "6  3.52       N                      230                           \n",
       "7  3.30       N                      250                           \n",
       "8  3.30       Y                      260                           \n",
       "9  3.10       Y                      250                           \n",
       "10 3.00       N                      525                           \n",
       "11 3.50       N                      400                           \n",
       "12 3.00       N                      920                           \n",
       "13 3.30       y                      300                           \n",
       "14 3.37       Y                      310                           \n",
       "15 2.67       Y                      550                           \n",
       "16 3.00       Y                      350                           \n",
       "17 3.30       N                      600                           \n",
       "18 4.00       Y                      500                           \n",
       "19 3.10       N                      500                           \n",
       "20 3.42       Y                      650                           \n",
       "21 3.00       Y                      515                           \n",
       "22 3.20       Y                      350                           \n",
       "23 3.20       Y                      301                           \n",
       "24 3.65       Y                      700                           \n",
       "25 3.80       Y                      809                           \n",
       "26 3.00       N                      258                           \n",
       "27 3.33       Y                      350                           \n",
       "28 3.28       Y                      900                           \n",
       "29 3.30       Y                      220                           \n",
       "30 3.00       Y                      183                           \n",
       "31 3.40       Y                      340                           \n",
       "32 3.50       Y                      800                           \n",
       "33 3.60       Y                      400                           \n",
       "34 3.20       Y                      500                           \n",
       "   Expected.Salary.after.graduation\n",
       "1   90000                          \n",
       "2  100000                          \n",
       "3   90000                          \n",
       "4  100000                          \n",
       "5  100000                          \n",
       "6   85000                          \n",
       "7   90000                          \n",
       "8  100000                          \n",
       "9  110000                          \n",
       "10 105000                          \n",
       "11  85000                          \n",
       "12 140000                          \n",
       "13  90000                          \n",
       "14  95000                          \n",
       "15 120000                          \n",
       "16 100000                          \n",
       "17  88000                          \n",
       "18 130000                          \n",
       "19  80000                          \n",
       "20  95000                          \n",
       "21  80000                          \n",
       "22 110000                          \n",
       "23  90000                          \n",
       "24 100000                          \n",
       "25 120000                          \n",
       "26 100000                          \n",
       "27 100000                          \n",
       "28 100000                          \n",
       "29 110000                          \n",
       "30 100000                          \n",
       "31 100000                          \n",
       "32  80000                          \n",
       "33  80000                          \n",
       "34  90000                          "
      ]
     },
     "metadata": {},
     "output_type": "display_data"
    }
   ],
   "source": [
    "df"
   ]
  },
  {
   "cell_type": "code",
   "execution_count": 10,
   "metadata": {
    "collapsed": false
   },
   "outputs": [
    {
     "data": {
      "text/html": [
       "3.06"
      ],
      "text/latex": [
       "3.06"
      ],
      "text/markdown": [
       "3.06"
      ],
      "text/plain": [
       "[1] 3.06"
      ]
     },
     "metadata": {},
     "output_type": "display_data"
    }
   ],
   "source": [
    "minGPA = min(df$GPA)\n",
    "minGPA"
   ]
  },
  {
   "cell_type": "code",
   "execution_count": 11,
   "metadata": {
    "collapsed": false
   },
   "outputs": [
    {
     "data": {
      "text/html": [
       "4"
      ],
      "text/latex": [
       "4"
      ],
      "text/markdown": [
       "4"
      ],
      "text/plain": [
       "[1] 4"
      ]
     },
     "metadata": {},
     "output_type": "display_data"
    }
   ],
   "source": [
    "maxGPA = max(df$GPA)\n",
    "maxGPA"
   ]
  },
  {
   "cell_type": "code",
   "execution_count": 16,
   "metadata": {
    "collapsed": false
   },
   "outputs": [
    {
     "data": {
      "text/html": [
       "3.5"
      ],
      "text/latex": [
       "3.5"
      ],
      "text/markdown": [
       "3.5"
      ],
      "text/plain": [
       "[1] 3.5"
      ]
     },
     "metadata": {},
     "output_type": "display_data"
    }
   ],
   "source": [
    "medianGPA = median(df$GPA)\n",
    "medianGPA"
   ]
  },
  {
   "cell_type": "code",
   "execution_count": 13,
   "metadata": {
    "collapsed": false
   },
   "outputs": [
    {
     "data": {
      "text/html": [
       "3.50970588235294"
      ],
      "text/latex": [
       "3.50970588235294"
      ],
      "text/markdown": [
       "3.50970588235294"
      ],
      "text/plain": [
       "[1] 3.509706"
      ]
     },
     "metadata": {},
     "output_type": "display_data"
    }
   ],
   "source": [
    "avgGPA = mean(df$GPA)\n",
    "avgGPA"
   ]
  },
  {
   "cell_type": "code",
   "execution_count": 14,
   "metadata": {
    "collapsed": false
   },
   "outputs": [
    {
     "data": {
      "text/html": [
       "1"
      ],
      "text/latex": [
       "1"
      ],
      "text/markdown": [
       "1"
      ],
      "text/plain": [
       "[1] 1"
      ]
     },
     "metadata": {},
     "output_type": "display_data"
    }
   ],
   "source": [
    "minWorkEx = min(df$Years.of.work.experience)\n",
    "minWorkEx"
   ]
  },
  {
   "cell_type": "code",
   "execution_count": 15,
   "metadata": {
    "collapsed": false
   },
   "outputs": [
    {
     "data": {
      "text/html": [
       "6"
      ],
      "text/latex": [
       "6"
      ],
      "text/markdown": [
       "6"
      ],
      "text/plain": [
       "[1] 6"
      ]
     },
     "metadata": {},
     "output_type": "display_data"
    }
   ],
   "source": [
    "maxWorkEx = max(df$Years.of.work.experience)\n",
    "maxWorkEx"
   ]
  },
  {
   "cell_type": "code",
   "execution_count": 18,
   "metadata": {
    "collapsed": false
   },
   "outputs": [
    {
     "data": {
      "text/html": [
       "2.5"
      ],
      "text/latex": [
       "2.5"
      ],
      "text/markdown": [
       "2.5"
      ],
      "text/plain": [
       "[1] 2.5"
      ]
     },
     "metadata": {},
     "output_type": "display_data"
    }
   ],
   "source": [
    "medianWorkEx = median(df$Years.of.work.experience)\n",
    "medianWorkEx"
   ]
  },
  {
   "cell_type": "code",
   "execution_count": 19,
   "metadata": {
    "collapsed": false
   },
   "outputs": [
    {
     "data": {
      "text/html": [
       "2.81176470588235"
      ],
      "text/latex": [
       "2.81176470588235"
      ],
      "text/markdown": [
       "2.81176470588235"
      ],
      "text/plain": [
       "[1] 2.811765"
      ]
     },
     "metadata": {},
     "output_type": "display_data"
    }
   ],
   "source": [
    "avgWorkEx = mean(df$Years.of.work.experience)\n",
    "avgWorkEx"
   ]
  },
  {
   "cell_type": "code",
   "execution_count": 25,
   "metadata": {
    "collapsed": false
   },
   "outputs": [
    {
     "name": "stdout",
     "output_type": "stream",
     "text": [
      "[1] 60000\n"
     ]
    }
   ],
   "source": [
    "getmode = function(v) {\n",
    "   uniq = unique(v)\n",
    "   uniq[which.max(tabulate(match(v, uniq)))]\n",
    "}\n",
    "mode = getmode(df$Latest.salary..per.year)\n",
    "print(mode)"
   ]
  },
  {
   "cell_type": "code",
   "execution_count": 29,
   "metadata": {
    "collapsed": false
   },
   "outputs": [
    {
     "data": {
      "text/html": [
       "34"
      ],
      "text/latex": [
       "34"
      ],
      "text/markdown": [
       "34"
      ],
      "text/plain": [
       "[1] 34"
      ]
     },
     "metadata": {},
     "output_type": "display_data"
    }
   ],
   "source": [
    "students = length(df$No)\n",
    "students"
   ]
  },
  {
   "cell_type": "code",
   "execution_count": 28,
   "metadata": {
    "collapsed": false
   },
   "outputs": [
    {
     "data": {
      "text/html": [
       "24"
      ],
      "text/latex": [
       "24"
      ],
      "text/markdown": [
       "24"
      ],
      "text/plain": [
       "[1] 24"
      ]
     },
     "metadata": {},
     "output_type": "display_data"
    },
    {
     "data": {
      "text/html": [
       "70.5882352941177"
      ],
      "text/latex": [
       "70.5882352941177"
      ],
      "text/markdown": [
       "70.5882352941177"
      ],
      "text/plain": [
       "[1] 70.58824"
      ]
     },
     "metadata": {},
     "output_type": "display_data"
    }
   ],
   "source": [
    "coop = length(which((df$Coops.Internships..YN.=='Y')|(df$Coops.Internships..YN.=='y')))\n",
    "coop\n",
    "percentageCoop = (coop/students)*100\n",
    "percentageCoop"
   ]
  },
  {
   "cell_type": "code",
   "execution_count": 31,
   "metadata": {
    "collapsed": false
   },
   "outputs": [
    {
     "data": {
      "text/html": [
       "10"
      ],
      "text/latex": [
       "10"
      ],
      "text/markdown": [
       "10"
      ],
      "text/plain": [
       "[1] 10"
      ]
     },
     "metadata": {},
     "output_type": "display_data"
    },
    {
     "data": {
      "text/html": [
       "29.4117647058824"
      ],
      "text/latex": [
       "29.4117647058824"
      ],
      "text/markdown": [
       "29.4117647058824"
      ],
      "text/plain": [
       "[1] 29.41176"
      ]
     },
     "metadata": {},
     "output_type": "display_data"
    }
   ],
   "source": [
    "noCoop = length(which((df$Coops.Internships..YN.=='N')|(df$Coops.Internships..YN.=='n')))\n",
    "noCoop\n",
    "percentageNoCoop = (noCoop/students)*100\n",
    "percentageNoCoop"
   ]
  },
  {
   "cell_type": "code",
   "execution_count": 32,
   "metadata": {
    "collapsed": false
   },
   "outputs": [
    {
     "data": {
      "text/html": [
       "10"
      ],
      "text/latex": [
       "10"
      ],
      "text/markdown": [
       "10"
      ],
      "text/plain": [
       "[1] 10"
      ]
     },
     "metadata": {},
     "output_type": "display_data"
    }
   ],
   "source": [
    "linkedinContacts = length(which(df$Number.of.contacts.on.Linkedin>500))\n",
    "linkedinContacts"
   ]
  },
  {
   "cell_type": "code",
   "execution_count": 33,
   "metadata": {
    "collapsed": false
   },
   "outputs": [
    {
     "data": {
      "text/html": [
       "10000"
      ],
      "text/latex": [
       "10000"
      ],
      "text/markdown": [
       "10000"
      ],
      "text/plain": [
       "[1] 10000"
      ]
     },
     "metadata": {},
     "output_type": "display_data"
    }
   ],
   "source": [
    "interquartileRange = IQR(df$Expected.Salary.after.graduation,na.rm=TRUE)\n",
    "interquartileRange"
   ]
  },
  {
   "cell_type": "code",
   "execution_count": null,
   "metadata": {
    "collapsed": true
   },
   "outputs": [],
   "source": []
  }
 ],
 "metadata": {
  "kernelspec": {
   "display_name": "R",
   "language": "R",
   "name": "ir"
  },
  "language_info": {
   "codemirror_mode": "r",
   "file_extension": ".r",
   "mimetype": "text/x-r-source",
   "name": "R",
   "pygments_lexer": "r",
   "version": "3.3.2"
  }
 },
 "nbformat": 4,
 "nbformat_minor": 2
}
