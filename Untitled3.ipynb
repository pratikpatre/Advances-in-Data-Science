{
 "cells": [
  {
   "cell_type": "code",
   "execution_count": 16,
   "metadata": {
    "collapsed": false
   },
   "outputs": [],
   "source": [
    "import pandas as pd\n",
    "df = pd.read_csv('C:/Users/Admin/Desktop/ADS.csv')"
   ]
  },
  {
   "cell_type": "code",
   "execution_count": 38,
   "metadata": {
    "collapsed": false
   },
   "outputs": [
    {
     "name": "stdout",
     "output_type": "stream",
     "text": [
      "4.0\n",
      "3.06\n",
      "3.5097058823529426\n",
      "3.5\n",
      "0    60000.0\n",
      "1        NaN\n",
      "Name: Latest salary (per year), dtype: float64\n",
      "2.81176470588\n"
     ]
    }
   ],
   "source": [
    "#1\n",
    "maximumGPA = df.GPA.max()\n",
    "print(maximumGPA)\n",
    "minimumGPA = df.GPA.min()\n",
    "print(minimumGPA)\n",
    "meanGPA = df.GPA.mean()\n",
    "print(meanGPA)\n",
    "medianGPA = df.GPA.median()\n",
    "print(medianGPA)\n",
    "exp = df.mean()['Years of work experience']\n",
    "print(exp)\n"
   ]
  },
  {
   "cell_type": "code",
   "execution_count": null,
   "metadata": {
    "collapsed": false
   },
   "outputs": [],
   "source": [
    "#2\n",
    "modeGPASal = df.mode()['Latest salary (per year)']\n",
    "print(modeGPASal)"
   ]
  },
  {
   "cell_type": "code",
   "execution_count": 73,
   "metadata": {
    "collapsed": false
   },
   "outputs": [
    {
     "name": "stdout",
     "output_type": "stream",
     "text": [
      "24\n",
      "10\n",
      "70.5882352941\n",
      "29.4117647059\n"
     ]
    }
   ],
   "source": [
    "#3\n",
    "value = df['Coops/Internships (YN)']\n",
    "tot = df.count()['Coops/Internships (YN)']\n",
    "countY= 0\n",
    "countN= 0\n",
    "for y in value:\n",
    "    if y == \"Y\" or y ==\"y\":\n",
    "        countY=countY+1\n",
    "    else:\n",
    "        countN=countN+1\n",
    "print(countY)\n",
    "print(countN)\n",
    "perY = ((countY/tot)*100)\n",
    "print(perY)\n",
    "perN = ((countN/tot)*100)\n",
    "print(perN)"
   ]
  },
  {
   "cell_type": "code",
   "execution_count": 106,
   "metadata": {
    "collapsed": false
   },
   "outputs": [
    {
     "name": "stdout",
     "output_type": "stream",
     "text": [
      "10\n"
     ]
    }
   ],
   "source": [
    "#4\n",
    "value = df['Number of contacts on Linkedin']\n",
    "count=0\n",
    "for y in value:\n",
    "    if y>500:\n",
    "        count = count +1\n",
    "print(count)"
   ]
  },
  {
   "cell_type": "code",
   "execution_count": 107,
   "metadata": {
    "collapsed": false
   },
   "outputs": [
    {
     "name": "stdout",
     "output_type": "stream",
     "text": [
      "10000.0\n"
     ]
    }
   ],
   "source": [
    "#5\n",
    "data=df.sort_values(\"Expected Salary after graduation\")\n",
    "Q1 = data[\"Expected Salary after graduation\"].quantile(0.25)\n",
    "Q3 = data[\"Expected Salary after graduation\"].quantile(0.75)\n",
    "IQR = Q3 - Q1\n",
    "print(IQR)"
   ]
  },
  {
   "cell_type": "code",
   "execution_count": 97,
   "metadata": {
    "collapsed": false
   },
   "outputs": [
    {
     "name": "stdout",
     "output_type": "stream",
     "text": [
      "80000\n",
      "80000\n",
      "80000\n",
      "80000\n",
      "85000\n",
      "85000\n",
      "88000\n",
      "90000\n",
      "90000\n",
      "90000\n",
      "90000\n",
      "90000\n",
      "90000\n",
      "95000\n",
      "95000\n",
      "100000\n",
      "100000\n",
      "100000\n",
      "100000\n",
      "100000\n",
      "100000\n",
      "100000\n",
      "100000\n",
      "100000\n",
      "100000\n",
      "100000\n",
      "105000\n",
      "110000\n",
      "110000\n",
      "110000\n",
      "120000\n",
      "120000\n",
      "130000\n",
      "140000\n"
     ]
    }
   ],
   "source": [
    "value = df['Expected Salary after graduation']\n",
    "v = sorted(value, key=int) \n",
    "medianGPA = df.median()['Latest salary (per year)']\n",
    "# valBef = []\n",
    "#  valAf = []\n",
    "for y in v:\n",
    "#   print(y)\n",
    "    if y>60000: # and y!= 60000:\n",
    "        print(y)\n",
    "    #    valBef.extend(y)\n",
    "#   print(valBef)\n",
    "#    print(medianGPA)\n",
    "\n"
   ]
  },
  {
   "cell_type": "code",
   "execution_count": 105,
   "metadata": {
    "collapsed": false
   },
   "outputs": [
    {
     "name": "stdout",
     "output_type": "stream",
     "text": [
      "10000.0\n"
     ]
    }
   ],
   "source": []
  },
  {
   "cell_type": "code",
   "execution_count": null,
   "metadata": {
    "collapsed": true
   },
   "outputs": [],
   "source": []
  }
 ],
 "metadata": {
  "kernelspec": {
   "display_name": "Python 3",
   "language": "python",
   "name": "python3"
  },
  "language_info": {
   "codemirror_mode": {
    "name": "ipython",
    "version": 3
   },
   "file_extension": ".py",
   "mimetype": "text/x-python",
   "name": "python",
   "nbconvert_exporter": "python",
   "pygments_lexer": "ipython3",
   "version": "3.6.0"
  }
 },
 "nbformat": 4,
 "nbformat_minor": 2
}
